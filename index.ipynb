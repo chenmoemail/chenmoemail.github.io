{
 "cells": [
  {
   "cell_type": "code",
   "execution_count": 17,
   "metadata": {},
   "outputs": [
    {
     "data": {
      "text/html": [
       "<script>jQuery(function() {if (jQuery(\"body.notebook_app\").length == 0) { jQuery(\".input_area\").toggle(); jQuery(\".prompt\").toggle();}});</script>"
      ]
     },
     "metadata": {},
     "output_type": "display_data"
    },
    {
     "data": {
      "text/html": [
       "<style>#notebook div.output_subarea {max-width:100%;}</style>"
      ],
      "text/plain": [
       "<IPython.core.display.HTML object>"
      ]
     },
     "execution_count": 17,
     "metadata": {},
     "output_type": "execute_result"
    }
   ],
   "source": [
    "from IPython.display import display\n",
    "from IPython.display import HTML\n",
    "import IPython.core.display as di\n",
    "di.display_html('<script>jQuery(function() {if (jQuery(\"body.notebook_app\").length == 0) { jQuery(\".input_area\").toggle(); jQuery(\".prompt\").toggle();}});</script>', raw=True)\n",
    "CSS = \"\"\"#notebook div.output_subarea {max-width:100%;}\"\"\" #changes output_subarea width to 100% (from 100% - 14ex)\n",
    "HTML('<style>{}</style>'.format(CSS))"
   ]
  },
  {
   "cell_type": "markdown",
   "metadata": {},
   "source": [
    "![welcome_picture](.\\material\\welcome_image.png)"
   ]
  },
  {
   "cell_type": "markdown",
   "metadata": {},
   "source": [
    "![introduction_picture](.\\material\\introduction_image.gif)"
   ]
  },
  {
   "cell_type": "markdown",
   "metadata": {},
   "source": [
    "## ❤ 推荐阅读1：中国官方媒体对部分国家报道关注程度的横向对比与历史演变（1946-2020）\n",
    "✔ 点击时间轴自动播放 ✔ 可切换视角：数值视角便于各国横向对比，比值视角便于观察某国历史演变 ✔ 鼠标滚轮控制地图缩放"
   ]
  },
  {
   "cell_type": "code",
   "execution_count": 15,
   "metadata": {},
   "outputs": [
    {
     "data": {
      "text/html": [
       "\n",
       "        <iframe\n",
       "            width=\"1000\"\n",
       "            height=\"550\"\n",
       "            src=\".\\graph\\人民日报对各国报道横向对比（1946-2020）.html\"\n",
       "            frameborder=\"0\"\n",
       "            allowfullscreen\n",
       "        ></iframe>\n",
       "        "
      ],
      "text/plain": [
       "<IPython.lib.display.IFrame at 0x2116d214828>"
      ]
     },
     "execution_count": 15,
     "metadata": {},
     "output_type": "execute_result"
    }
   ],
   "source": [
    "IFrame(src='.\\graph\\人民日报对各国报道横向对比（1946-2020）.html', width=1000, height=550)"
   ]
  },
  {
   "cell_type": "markdown",
   "metadata": {},
   "source": [
    "___\n",
    "## ❤ 推荐阅读2：中国官方媒体对部分国家报道的历史演变（1946-2020）"
   ]
  },
  {
   "cell_type": "markdown",
   "metadata": {},
   "source": [
    "*✔ 点击图例可显示/隐藏对应数据 ✔ 拖动底部控制条可缩放年份 ✔ 提供60+个国家数据，但只有中国周边国家含数据解读文章（更新中）*"
   ]
  },
  {
   "cell_type": "code",
   "execution_count": 4,
   "metadata": {},
   "outputs": [
    {
     "data": {
      "text/html": [
       "\n",
       "        <iframe\n",
       "            width=\"1000\"\n",
       "            height=\"520\"\n",
       "            src=\".\\graph\\人民日报对巴基斯坦的报道历史.html\"\n",
       "            frameborder=\"0\"\n",
       "            allowfullscreen\n",
       "        ></iframe>\n",
       "        "
      ],
      "text/plain": [
       "<IPython.lib.display.IFrame at 0x2116d1e4b00>"
      ]
     },
     "execution_count": 4,
     "metadata": {},
     "output_type": "execute_result"
    }
   ],
   "source": [
    "from IPython.display import IFrame\n",
    "IFrame(src='.\\graph\\人民日报对巴基斯坦的报道历史.html', width=1000, height=520)"
   ]
  },
  {
   "cell_type": "markdown",
   "metadata": {},
   "source": [
    "**【示例说明】**\n",
    "\n",
    "\n",
    "《人民日报对巴基斯坦的报道历史》中，周边传播迷你数据实验室™爬取了**1946年至今**（已更新至2020年3月）《人民日报》上所有含“巴基斯坦”关键词的文章，共计23183篇（完全采集率99.28%）。\n",
    "\n",
    "1. **红色数据柱** 表示新闻标题中出现“巴基斯坦”的报道数量，此类报道与对象国相关性高，在**年度热词**、**报道关注度变化**、**各国报道“他周边”关联程度**等后续分析中，占有较大比重。\n",
    "\n",
    "\n",
    "2. **蓝色数据柱** 表示仅在正文中提及“巴基斯坦”的文章数量。此类报道总体上与对象国关联度弱，可能是关于多国新闻中包含关于巴基斯坦内容，也能是其他国家专题报道中提及该国。\n",
    "\n",
    "\n",
    "3. **灰色数据柱** 表示智能补足的报道量。由于技术问题极少数（一般<1%）无法被完整采集，故不参与后续内容分析，但可通过算法智能补足其所在年份。漏采对整体影响不大，但为了严谨性将其放在这里。本实验室将继续改进技术以消灭漏采。\n",
    "\n",
    "\n",
    "4. **粉色折线图** 表示“标题提及率”，反映了当年涉巴报道中标题提及“巴基斯坦”的比例，与当年涉巴报道与该国的相关性正相关。然而，这一数据应与当年报道基数结合分析，因为报道总量很少时标题提及率可能虚高。"
   ]
  },
  {
   "cell_type": "markdown",
   "metadata": {},
   "source": [
    "### 本系列为每个周边国家撰写相应解读文章\n",
    "*下方试看，全文请见：*\n",
    "[《兄弟情与近邻谊——中巴周边传播的基础》](https://shimo.im/docs/rD3HqcVVpRPJHvP8)"
   ]
  },
  {
   "cell_type": "code",
   "execution_count": 36,
   "metadata": {},
   "outputs": [
    {
     "data": {
      "text/html": [
       "\n",
       "        <iframe\n",
       "            width=\"1000\"\n",
       "            height=\"600\"\n",
       "            src=\"https://shimo.im/docs/rD3HqcVVpRPJHvP8\"\n",
       "            frameborder=\"0\"\n",
       "            allowfullscreen\n",
       "        ></iframe>\n",
       "        "
      ],
      "text/plain": [
       "<IPython.lib.display.IFrame at 0x2116d22ed30>"
      ]
     },
     "execution_count": 36,
     "metadata": {},
     "output_type": "execute_result"
    }
   ],
   "source": [
    "IFrame(src='https://shimo.im/docs/rD3HqcVVpRPJHvP8', width=1000, height=600)"
   ]
  },
  {
   "cell_type": "markdown",
   "metadata": {},
   "source": [
    "___\n",
    "## ❤ 推荐阅读3：中国官方报道中部分国家与“他周边”国家的关联情况（1946-2020）"
   ]
  },
  {
   "cell_type": "markdown",
   "metadata": {},
   "source": [
    "\n",
    "*√ 提供“环形布局”与“引力布局”两种查看方式*\n",
    "*√ 鼠标悬停可显示与其关联最高的“他周边”国家*\n",
    "*√ 两国距离与报道关联度成正比*\n",
    "*√ 鼠标滚轮可控制缩放*"
   ]
  },
  {
   "cell_type": "code",
   "execution_count": 37,
   "metadata": {},
   "outputs": [
    {
     "data": {
      "text/html": [
       "\n",
       "        <iframe\n",
       "            width=\"1000\"\n",
       "            height=\"850\"\n",
       "            src=\".\\graph\\部分国家与“他周边”国家的关联情况-引力布局.html\"\n",
       "            frameborder=\"0\"\n",
       "            allowfullscreen\n",
       "        ></iframe>\n",
       "        "
      ],
      "text/plain": [
       "<IPython.lib.display.IFrame at 0x2116d22eda0>"
      ]
     },
     "execution_count": 37,
     "metadata": {},
     "output_type": "execute_result"
    }
   ],
   "source": [
    "IFrame(src='.\\graph\\部分国家与“他周边”国家的关联情况-引力布局.html', width=1000, height=850)"
   ]
  },
  {
   "cell_type": "code",
   "execution_count": 38,
   "metadata": {},
   "outputs": [
    {
     "data": {
      "text/html": [
       "\n",
       "        <iframe\n",
       "            width=\"1000\"\n",
       "            height=\"550\"\n",
       "            src=\".\\graph\\部分国家与“他周边”国家的关联情况-环形布局.html\"\n",
       "            frameborder=\"0\"\n",
       "            allowfullscreen\n",
       "        ></iframe>\n",
       "        "
      ],
      "text/plain": [
       "<IPython.lib.display.IFrame at 0x2116d22e160>"
      ]
     },
     "execution_count": 38,
     "metadata": {},
     "output_type": "execute_result"
    }
   ],
   "source": [
    "IFrame(src='.\\graph\\部分国家与“他周边”国家的关联情况-环形布局.html', width=1000, height=550)"
   ]
  },
  {
   "cell_type": "markdown",
   "metadata": {},
   "source": [
    "___\n",
    "## ❤ 推荐阅读4：中国官方媒体对周边国家报道的历年热词榜（系列）"
   ]
  },
  {
   "cell_type": "markdown",
   "metadata": {},
   "source": [
    "*搬运中……*"
   ]
  },
  {
   "cell_type": "markdown",
   "metadata": {},
   "source": [
    "___\n",
    "## 作品全集"
   ]
  },
  {
   "cell_type": "markdown",
   "metadata": {},
   "source": [
    "### ★ 系列1《人民日报》对部分国家报道"
   ]
  },
  {
   "cell_type": "markdown",
   "metadata": {},
   "source": [
    "#### ▶ 中国周边国家（陆续提供数据解读）\n",
    "*23个，含陆上邻国、海上邻国、邻近国家*\n",
    "\n",
    "*· 北部：*\n",
    "[【蒙古国】](.\\graph\\人民日报对蒙古国的报道历史.html)\n",
    "[【俄罗斯】](.\\graph\\人民日报对俄罗斯的报道历史.html)\n",
    "\n",
    "*· 东北部：*\n",
    "[【朝鲜】](.\\graph\\人民日报对朝鲜的报道历史.html)\n",
    "[【韩国】](.\\graph\\人民日报对韩国的报道历史.html)\n",
    "[【日本】](.\\graph\\人民日报对日本的报道历史.html)\n",
    "\n",
    "*· 东南部：*\n",
    "[【文莱】](.\\graph\\人民日报对文莱的报道历史.html)\n",
    "[【菲律宾】](.\\graph\\人民日报对菲律宾的报道历史.html)\n",
    "[【马来西亚】](.\\graph\\人民日报对马来西亚的报道历史.html)\n",
    "[【印度尼西亚】](.\\graph\\人民日报对印度尼西亚的报道历史.html)\n",
    "[【新加坡】](.\\graph\\人民日报对新加坡的报道历史.html)\n",
    "\n",
    "*· 南部：*\n",
    "[【缅甸】](.\\graph\\人民日报对缅甸的报道历史.html)\n",
    "[【老挝】](.\\graph\\人民日报对老挝的报道历史.html)\n",
    "[【越南】](.\\graph\\人民日报对越南的报道历史.html)\n",
    "[【泰国】](.\\graph\\人民日报对泰国的报道历史.html)\n",
    "[【柬埔寨】](.\\graph\\人民日报对柬埔寨的报道历史.html)\n",
    "\n",
    "*· 西南部：*\n",
    "[【阿富汗】](.\\graph\\人民日报对阿富汗的报道历史.html)\n",
    "[【巴基斯坦】](.\\graph\\人民日报对巴基斯坦的报道历史.html)\n",
    "[【印度】](.\\graph\\人民日报对印度的报道历史.html)\n",
    "[【尼泊尔】](.\\graph\\人民日报对尼泊尔的报道历史.html)\n",
    "[【不丹】](.\\graph\\人民日报对不丹的报道历史.html)\n",
    "\n",
    "*· 西北部：*\n",
    "[【哈萨克斯坦】](.\\graph\\人民日报对哈萨克斯坦的报道历史.html)\n",
    "[【吉尔吉斯斯坦】](.\\graph\\人民日报对吉尔吉斯斯坦的报道历史.html)\n",
    "[【塔吉克斯坦】](.\\graph\\人民日报对塔吉克斯坦的报道历史.html)\n",
    "\n",
    "#### ▶ 欧盟国家\n",
    "\n",
    "*· 2字：*\n",
    "[【德国】](.\\graph\\人民日报对德国的报道历史.html)\n",
    "[【法国】](.\\graph\\人民日报对法国的报道历史.html)\n",
    "[【荷兰】](.\\graph\\人民日报对荷兰的报道历史.html)\n",
    "[【波兰】](.\\graph\\人民日报对波兰的报道历史.html)\n",
    "[【捷克】](.\\graph\\人民日报对捷克的报道历史.html)\n",
    "[【丹麦】](.\\graph\\人民日报对丹麦的报道历史.html)\n",
    "[【芬兰】](.\\graph\\人民日报对芬兰的报道历史.html)\n",
    "[【希腊】](.\\graph\\人民日报对希腊的报道历史.html)\n",
    "[【瑞典】](.\\graph\\人民日报对瑞典的报道历史.html)\n",
    "\n",
    "*· 3字：*\n",
    "[【比利时】](.\\graph\\人民日报对比利时的报道历史.html)\n",
    "[【卢森堡】](.\\graph\\人民日报对卢森堡的报道历史.html)\n",
    "[【奥地利】](.\\graph\\人民日报对奥地利的报道历史.html)\n",
    "[【意大利】](.\\graph\\人民日报对意大利的报道历史.html)\n",
    "[【匈牙利】](.\\graph\\人民日报对匈牙利的报道历史.html)\n",
    "[【爱尔兰】](.\\graph\\人民日报对爱尔兰的报道历史.html)\n",
    "[【立陶宛】](.\\graph\\人民日报对立陶宛的报道历史.html)\n",
    "[【马耳他】](.\\graph\\人民日报对马耳他的报道历史.html)\n",
    "[【葡萄牙】](.\\graph\\人民日报对葡萄牙的报道历史.html)\n",
    "[【西班牙】](.\\graph\\人民日报对西班牙的报道历史.html)\n",
    "\n",
    "*· 4字及以上：*\n",
    "[【保加利亚】](.\\graph\\人民日报对保加利亚的报道历史.html)\n",
    "[【塞浦路斯】](.\\graph\\人民日报对塞浦路斯的报道历史.html)\n",
    "[【克罗地亚】](.\\graph\\人民日报对克罗地亚的报道历史.html)\n",
    "[【爱沙尼亚】](.\\graph\\人民日报对爱沙尼亚的报道历史.html)\n",
    "[【拉脱维亚】](.\\graph\\人民日报对拉脱维亚的报道历史.html)\n",
    "[【罗马尼亚】](.\\graph\\人民日报对罗马尼亚的报道历史.html)\n",
    "[【斯洛伐克】](.\\graph\\人民日报对斯洛伐克的报道历史.html)\n",
    "[【斯洛文尼亚】](.\\graph\\人民日报对斯洛文尼亚的报道历史.html)"
   ]
  },
  {
   "cell_type": "markdown",
   "metadata": {},
   "source": [
    "#### ▶ 东盟国家\n",
    "\n",
    "*· 东盟成员国：*\n",
    "[【老挝】](.\\graph\\人民日报对老挝的报道历史.html)\n",
    "[【马来西亚】](.\\graph\\人民日报对马来西亚的报道历史.html)\n",
    "[【新加坡】](.\\graph\\人民日报对新加坡的报道历史.html)\n",
    "[【菲律宾】](.\\graph\\人民日报对菲律宾的报道历史.html)\n",
    "[【越南】](.\\graph\\人民日报对越南的报道历史.html)\n",
    "[【泰国】](.\\graph\\人民日报对泰国的报道历史.html)\n",
    "[【柬埔寨】](.\\graph\\人民日报对柬埔寨的报道历史.html)\n",
    "[【印度尼西亚】](.\\graph\\人民日报对印度尼西亚的报道历史.html)\n",
    "[【文莱】](.\\graph\\人民日报对文莱的报道历史.html)\n",
    "[【缅甸】](.\\graph\\人民日报对缅甸的报道历史.html)"
   ]
  },
  {
   "cell_type": "markdown",
   "metadata": {},
   "source": [
    "#### ▶ 中亚国家\n",
    "\n",
    "*· 中亚五国：*\n",
    "[【哈萨克斯坦】](.\\graph\\人民日报对哈萨克斯坦的报道历史.html)\n",
    "[【吉尔吉斯斯坦】](.\\graph\\人民日报对吉尔吉斯斯坦的报道历史.html)\n",
    "[【塔吉克斯坦】](.\\graph\\人民日报对塔吉克斯坦的报道历史.html)\n",
    "[【乌兹别克斯坦】](.\\graph\\人民日报对乌兹别克斯坦的报道历史.html)\n",
    "[【土库曼斯坦】](.\\graph\\人民日报对土库曼斯坦的报道历史.html)"
   ]
  },
  {
   "cell_type": "markdown",
   "metadata": {},
   "source": [
    "#### ▶ 南亚国家\n",
    "\n",
    "*· 南盟成员国：*\n",
    "[【尼泊尔】](.\\graph\\人民日报对尼泊尔的报道历史.html)\n",
    "[【不丹】](.\\graph\\人民日报对不丹的报道历史.html)\n",
    "[【巴基斯坦】](.\\graph\\人民日报对巴基斯坦的报道历史.html)\n",
    "[【印度】](.\\graph\\人民日报对印度的报道历史.html)\n",
    "[【孟加拉】](.\\graph\\人民日报对孟加拉的报道历史.html)\n",
    "[【马尔代夫】](.\\graph\\人民日报对马尔代夫的报道历史.html)\n",
    "[【斯里兰卡】](.\\graph\\人民日报对斯里兰卡的报道历史.html)"
   ]
  },
  {
   "cell_type": "markdown",
   "metadata": {},
   "source": [
    "#### ▶ 联合国安全理事会常务理事国（除中国）\n",
    "*· 五常：*\n",
    "[【俄罗斯】](.\\graph\\人民日报对俄罗斯的报道历史.html)\n",
    "[【美国】](.\\graph\\人民日报对美国的报道历史.html)\n",
    "[【英国】](.\\graph\\人民日报对英国的报道历史.html)\n",
    "[【法国】](.\\graph\\人民日报对法国的报道历史.html)"
   ]
  },
  {
   "cell_type": "markdown",
   "metadata": {},
   "source": [
    "#### ▶ 金砖国家（除中国）\n",
    "\n",
    "*· BRICS：*\n",
    "[【巴西】](.\\graph\\人民日报对巴西的报道历史.html)\n",
    "[【俄罗斯】](.\\graph\\人民日报对俄罗斯的报道历史.html)\n",
    "[【印度】](.\\graph\\人民日报对印度的报道历史.html)\n",
    "[【南非】](.\\graph\\人民日报对南非的报道历史.html)"
   ]
  },
  {
   "cell_type": "markdown",
   "metadata": {},
   "source": [
    "### ★ 中国官方媒体对部分国家报道关注程度的历史演变（多视角）\n",
    "\n",
    "*· 同年横向比较：*\n",
    "[**人民日报对各国报道横向对比（1946-2020）** 数值视角](.\\graph\\人民日报对各国报道横向对比（1946-2020）.html)\n",
    "\n",
    "*· 本国演变历程：*\n",
    "[**人民日报对各国报道历史演变（1946-2020）** 比例视角](.\\graph\\人民日报对各国报道历史演变（1946-2020）.html)"
   ]
  },
  {
   "cell_type": "markdown",
   "metadata": {},
   "source": [
    "###  ★ 部分国家与“他周边”国家的关联情况（两种布局）\n",
    "*· 看相关国家远近关系：*\n",
    "[**中国官方报道中部分国家与“他周边”国家的关联情况（1946-2020）** - 引力布局](.\\graph\\部分国家与“他周边”国家的关联情况-引力布局.html)\n",
    "\n",
    "*· 看重要“他周边”国家：*\n",
    "[**中国官方报道中部分国家与“他周边”国家的关联情况（1946-2020）** - 环形布局](.\\graph\\部分国家与“他周边”国家的关联情况-环形布局.html)"
   ]
  },
  {
   "cell_type": "markdown",
   "metadata": {},
   "source": [
    "___\n",
    "## 分析指标 & 绘图参数"
   ]
  },
  {
   "cell_type": "markdown",
   "metadata": {},
   "source": [
    " *点击这里了解分析指标及具体的绘图参数（待建设）*"
   ]
  },
  {
   "cell_type": "markdown",
   "metadata": {},
   "source": [
    "___\n",
    "## 关于本站 & 联系作者\n",
    "\n",
    "###  特别鸣谢\n",
    "**理论知识**\n",
    "\n",
    "周边传播理论是近年来中国本土产生的一种崭新的传播学理论，是中国理论自信建设特别是传播理论自信建设的重要组成部分。本站分析视角及解读性文章所涉及的周边传播理论来源于北京大学新闻与传播学院相关课程与学术活动，作者在此特别鸣谢本科、硕士期间导师：\n",
    "\n",
    "* 国家社科基金重大项目《周边传播理论与应用研究》首席专家：**陆地** 教授（撒花.png）\n",
    "\n",
    "推荐关注：周边传播 公众微信号（ID：zhoubianchuanbo_pku）\n",
    "\n",
    "**技术知识**\n",
    "\n",
    "本站所涉及的全部数据分析、可视化处理、网页编辑等全部编程操作系北京大学信息科学技术学院**《计算机科学与编程入门》课程**（2020年春季学期）讲授，本站搭建过程中得到了课程主创人员的大力支持，作者在此特别鸣谢两位老师：\n",
    "\n",
    "* 主讲老师：**陆俊林** 教授（掌声.jpg）\n",
    "\n",
    "* 助教老师：**王剑锋** 老师（献花.gif）\n",
    "\n",
    "### 关于本站\n",
    "\n",
    "**数据来源**\n",
    "\n",
    "人民数据库：权威党政、时政信息平台\n",
    "\n",
    "非常优秀的数据库，墙裂推荐！（备注：数据查询与采集环节未对数据库网站系统产生不良影响）\n",
    "\n",
    "**本站作者**\n",
    "\n",
    "陈沫，北京大学新闻与传播学院本科、硕士毕业生。出于学术兴趣进行周边传播研究并搭建本站，仅供个人学习及学术探讨使用，请勿做商业用途。\n",
    "\n",
    "欢迎对周边传播迷你数据实验室™提供宝贵意见，欢迎学术探讨！作者邮箱：chenmoemail@126.com"
   ]
  },
  {
   "cell_type": "markdown",
   "metadata": {},
   "source": [
    "___"
   ]
  }
 ],
 "metadata": {
  "kernelspec": {
   "display_name": "Python 3",
   "language": "python",
   "name": "python3"
  },
  "language_info": {
   "codemirror_mode": {
    "name": "ipython",
    "version": 3
   },
   "file_extension": ".py",
   "mimetype": "text/x-python",
   "name": "python",
   "nbconvert_exporter": "python",
   "pygments_lexer": "ipython3",
   "version": "3.7.0"
  }
 },
 "nbformat": 4,
 "nbformat_minor": 2
}
