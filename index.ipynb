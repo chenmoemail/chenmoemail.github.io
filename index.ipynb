{
 "cells": [
  {
   "cell_type": "code",
   "execution_count": 7,
   "metadata": {},
   "outputs": [
    {
     "data": {
      "text/html": [
       "<button onclick=\"$('.input, .prompt, .output_stderr, .output_error, .output_result').toggle();\">隐藏/显示代码</button>"
      ],
      "text/plain": [
       "<IPython.core.display.HTML object>"
      ]
     },
     "metadata": {},
     "output_type": "display_data"
    }
   ],
   "source": [
    "%%HTML\n",
    "<button onclick=\"$('.input, .prompt, .output_stderr, .output_error, .output_result').toggle();\">隐藏/显示代码</button>"
   ]
  },
  {
   "cell_type": "markdown",
   "metadata": {},
   "source": [
    "# 周边传播 迷你数据实验室"
   ]
  },
  {
   "cell_type": "markdown",
   "metadata": {},
   "source": [
    "![welcome_picture](.\\material\\welcome_image.png)"
   ]
  },
  {
   "cell_type": "markdown",
   "metadata": {},
   "source": [
    "___\n",
    "## 推荐阅读"
   ]
  },
  {
   "cell_type": "markdown",
   "metadata": {},
   "source": [
    "### 推荐阅读1：中国官方媒体对部分国家报道的历史演变（1946-2020）"
   ]
  },
  {
   "cell_type": "markdown",
   "metadata": {},
   "source": [
    "*提示：点击图例可显示/隐藏对应数据，拖动底部控制条可缩放年份*"
   ]
  },
  {
   "cell_type": "code",
   "execution_count": 46,
   "metadata": {},
   "outputs": [
    {
     "data": {
      "text/html": [
       "\n",
       "        <iframe\n",
       "            width=\"980\"\n",
       "            height=\"520\"\n",
       "            src=\".\\graph\\人民日报对巴基斯坦的报道历史.html\"\n",
       "            frameborder=\"0\"\n",
       "            allowfullscreen\n",
       "        ></iframe>\n",
       "        "
      ],
      "text/plain": [
       "<IPython.lib.display.IFrame at 0x24952516cf8>"
      ]
     },
     "execution_count": 46,
     "metadata": {},
     "output_type": "execute_result"
    }
   ],
   "source": [
    "from IPython.display import IFrame\n",
    "IFrame(src='.\\graph\\人民日报对巴基斯坦的报道历史.html', width=980, height=520)"
   ]
  },
  {
   "cell_type": "markdown",
   "metadata": {},
   "source": [
    "**【示例说明】**\n",
    "\n",
    "   \n",
    "   《人民日报对巴基斯坦的报道历史》中，周边传播迷你数据实验室统计了**1946年至今**（数据更新至2020年3月）期间，《人民日报》上所有完整包含“巴基斯坦”关键词的文章，共计23183篇（完全采集率99.28%）。\n",
    "\n",
    "   * **红色数据柱** 表示新闻标题中出现“巴基斯坦”的报道数量，此类报道与对象国相关性高，基本通篇讲述对象国新闻或中巴两国双边关系相关内容，在**年度热词**、**报道关注度变化**、**各国报道“他周边”关联程度**等后续分析中，占有较大比重。\n",
    "\n",
    "\n",
    "   * **蓝色数据柱** 表示新闻标题中未出现“巴基斯坦”，而仅在正文中提及的文章数量。此类报道与红色数据柱相比，总体上与对象国关联度弱，可能是关于多国新闻的报道中包含关于巴基斯坦的部分内容，也能是关于其他国家专题报道中提及了巴基斯坦。\n",
    "\n",
    "\n",
    "   * **灰色数据柱** 表示智能补足的报道量。由于技术问题，某些国家报道中有极少数（一般为1%以内）无法被周边传播迷你数据实验室完整采集，故不参与后续内容分析过程，但可通过计算智能补足该报道所在年份。虽然漏采对整体结果影响不大，但为了数据严谨性，还是将其放在这里。周边传播迷你数据实验室将继续改进技术，进一步降低漏采率。\n",
    "\n",
    "\n",
    "   * **粉色折线图** 表示“标题提及率”，反映了当年标题中出现“巴基斯坦”的报道占所有提及“巴基斯坦”文章的比例，这一数据越高，说明当年涉及巴基斯坦的报道与该国的相关性越高。然而，这一数据应与当年报道总量基数结合分析才能体现出内在特殊性，因为报道总量很少时（如全年仅发布1篇），标题提及率可能很高。"
   ]
  },
  {
   "cell_type": "markdown",
   "metadata": {},
   "source": [
    "___\n",
    "### 推荐阅读2：中国官方媒体对部分国家报道关注程度的横向对比与历史演变（1946-2020）"
   ]
  },
  {
   "cell_type": "markdown",
   "metadata": {},
   "source": [
    "*提示：点击时间轴可自动播放75年变化，点击图例可切换视角（对数视角可弥补部分国家报道总量差距过大问题），鼠标滚轮控制地图缩放*"
   ]
  },
  {
   "cell_type": "code",
   "execution_count": 44,
   "metadata": {},
   "outputs": [
    {
     "data": {
      "text/html": [
       "\n",
       "        <iframe\n",
       "            width=\"980\"\n",
       "            height=\"520\"\n",
       "            src=\".\\graph\\人民日报上各国报道历史横向对比.html\"\n",
       "            frameborder=\"0\"\n",
       "            allowfullscreen\n",
       "        ></iframe>\n",
       "        "
      ],
      "text/plain": [
       "<IPython.lib.display.IFrame at 0x24952516eb8>"
      ]
     },
     "execution_count": 44,
     "metadata": {},
     "output_type": "execute_result"
    }
   ],
   "source": [
    "IFrame(src='.\\graph\\人民日报上各国报道历史横向对比.html', width=980, height=520)"
   ]
  },
  {
   "cell_type": "markdown",
   "metadata": {},
   "source": [
    "___\n",
    "### 推荐阅读3：中国官方报道中部分国家与“他周边”国家的关联情况（1946-2020）"
   ]
  },
  {
   "cell_type": "markdown",
   "metadata": {},
   "source": [
    "*提示：鼠标悬停在某国上，可显示与该国关联最紧密的“他周边”国家，两国距离近代表报道中联系紧密，鼠标滚轮可控制缩放*"
   ]
  },
  {
   "cell_type": "code",
   "execution_count": 50,
   "metadata": {},
   "outputs": [
    {
     "data": {
      "text/html": [
       "\n",
       "        <iframe\n",
       "            width=\"980\"\n",
       "            height=\"550\"\n",
       "            src=\".\\graph\\部分国家与“他周边”国家的关联情况（1946-2020）.html\"\n",
       "            frameborder=\"0\"\n",
       "            allowfullscreen\n",
       "        ></iframe>\n",
       "        "
      ],
      "text/plain": [
       "<IPython.lib.display.IFrame at 0x24952573390>"
      ]
     },
     "execution_count": 50,
     "metadata": {},
     "output_type": "execute_result"
    }
   ],
   "source": [
    "IFrame(src='.\\graph\\部分国家与“他周边”国家的关联情况（1946-2020）.html', width=980, height=550)"
   ]
  },
  {
   "cell_type": "markdown",
   "metadata": {},
   "source": [
    "___\n",
    "### 推荐阅读4：中国官方媒体对周边国家报道的历年热词榜（系列）"
   ]
  },
  {
   "cell_type": "markdown",
   "metadata": {},
   "source": [
    "*提示：搬运中……*"
   ]
  },
  {
   "cell_type": "markdown",
   "metadata": {},
   "source": [
    "___\n",
    "## 作品全集"
   ]
  },
  {
   "cell_type": "markdown",
   "metadata": {},
   "source": [
    "### 《人民日报》对部分国家报道的历史演变（系列）"
   ]
  },
  {
   "cell_type": "markdown",
   "metadata": {},
   "source": [
    "* 中国周边国家（22个）"
   ]
  },
  {
   "cell_type": "markdown",
   "metadata": {},
   "source": [
    "* 欧盟国家（27个）"
   ]
  },
  {
   "cell_type": "markdown",
   "metadata": {},
   "source": [
    "* 东盟国家（10个）"
   ]
  },
  {
   "cell_type": "markdown",
   "metadata": {},
   "source": [
    "* 中亚国家（5个）"
   ]
  },
  {
   "cell_type": "markdown",
   "metadata": {},
   "source": [
    "* 南亚国家（5个）"
   ]
  },
  {
   "cell_type": "markdown",
   "metadata": {},
   "source": [
    "* 联合国安全理事会常务理事国（除中国外的4个）"
   ]
  },
  {
   "cell_type": "markdown",
   "metadata": {},
   "source": [
    "* 金砖国家（除中国外的4个）"
   ]
  },
  {
   "cell_type": "markdown",
   "metadata": {},
   "source": [
    "### 中国官方媒体对部分国家报道关注程度的历史演变（1946-2020）"
   ]
  },
  {
   "cell_type": "markdown",
   "metadata": {},
   "source": [
    "### 中国官方报道中部分国家与“他周边”国家的关联情况（1946-2020）"
   ]
  },
  {
   "cell_type": "markdown",
   "metadata": {},
   "source": [
    "___\n",
    "## 分析指标 & 绘图参数"
   ]
  },
  {
   "cell_type": "markdown",
   "metadata": {},
   "source": [
    "点击这里了解分析指标及具体的绘图参数（待建设）"
   ]
  },
  {
   "cell_type": "markdown",
   "metadata": {},
   "source": [
    "___\n",
    "## 关于本站 & 联系作者\n",
    "\n",
    "### 特别鸣谢\n",
    "**理论知识**\n",
    "\n",
    " 周边传播理论是近年来中国本土产生的一种崭新的传播学理论，是中国理论自信建设特别是传播理论自信建设的重要组成部分。本站分析视角及解读性文章所涉及的周边传播理论来源于北京大学新闻与传播学院相关课程与学术活动，作者在此特别鸣谢本科、硕士期间导师：\n",
    "\n",
    "国家社科基金重大项目《周边传播理论与应用研究》首席专家：**陆地** 教授（撒花.png）\n",
    "\n",
    "推荐关注：周边传播 公众微信号（ID：zhoubianchuanbo_pku）\n",
    "\n",
    "**技术知识**\n",
    "\n",
    "本站所涉及的全部数据分析、可视化处理、网页编辑等全部编程操作系北京大学信息科学技术学院**《计算机科学与编程入门》课程**（2020年春季学期）讲授，本站搭建过程中得到了课程主创人员的大力支持，作者在此特别鸣谢两位老师：\n",
    "\n",
    "主讲老师：**陆俊林** 教授（掌声.jpg）\n",
    "\n",
    "助教老师：**王剑锋** 老师（献花.gif）\n",
    "\n",
    "### 关于本站\n",
    "\n",
    "**数据来源**\n",
    "\n",
    "\n",
    "人民数据库：权威党政、时政信息平台，非常优秀的数据库，墙裂推荐！（备注：数据查询与采集环节未对数据库网站系统产生不良影响）\n",
    "\n",
    "**本站作者**\n",
    "\n",
    "陈沫，北京大学新闻与传播学院本科、硕士毕业生。\n",
    "\n",
    "出于学术兴趣进行周边传播研究并搭建本站，仅供个人学习及学术探讨使用，请勿做商业用途。\n",
    "\n",
    "欢迎提供宝贵意见，欢迎学术探讨！作者邮箱：chenmoemail@126.com"
   ]
  },
  {
   "cell_type": "markdown",
   "metadata": {},
   "source": [
    "___"
   ]
  }
 ],
 "metadata": {
  "kernelspec": {
   "display_name": "Python 3",
   "language": "python",
   "name": "python3"
  },
  "language_info": {
   "codemirror_mode": {
    "name": "ipython",
    "version": 3
   },
   "file_extension": ".py",
   "mimetype": "text/x-python",
   "name": "python",
   "nbconvert_exporter": "python",
   "pygments_lexer": "ipython3",
   "version": "3.7.0"
  }
 },
 "nbformat": 4,
 "nbformat_minor": 2
}
